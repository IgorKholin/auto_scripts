{
 "cells": [
  {
   "cell_type": "code",
   "execution_count": 5,
   "id": "94dd964c",
   "metadata": {
    "scrolled": true
   },
   "outputs": [],
   "source": [
    "import gspread\n",
    "from oauth2client.service_account import ServiceAccountCredentials\n",
    "from datetime import datetime, timedelta\n",
    "import json\n",
    "\n",
    "with open('config.json', 'r') as json_file:\n",
    "    config_data = json.load(json_file)\n",
    "token = config_data['path']\n",
    "\n",
    "scope = [\"https://spreadsheets.google.com/feeds\",'https://www.googleapis.com/auth/spreadsheets',\"https://www.googleapis.com/auth/drive.file\",\"https://www.googleapis.com/auth/drive\"]\n",
    "creds = ServiceAccountCredentials.from_json_keyfile_name(token, scope)\n",
    "client = gspread.authorize(creds)\n",
    "\n",
    "sheet = client.open('Мониторинг. Осмотры').worksheet('Итог') \n",
    "\n",
    "\n",
    "def set_koordinates(lastmonth, old, new):\n",
    "    Msk_last_month = sheet.cell(5, lastmonth).value \n",
    "    Msk_old = sheet.cell(5, old).value \n",
    "    Msk_old_real = timedelta(hours=int(Msk_old.split(':')[0]), minutes=int(Msk_old.split(':')[1]))\n",
    "    Msk_new = sheet.cell(5, new).value \n",
    "    Msk_new_real = timedelta(hours=int(Msk_new.split(':')[0]), minutes=int(Msk_new.split(':')[1]))\n",
    "    Msk_difference = Msk_new_real - Msk_old_real \n",
    "    time_change = lambda x: f'ухудшилось на {x} минут' if x > 0 else f'улучшилось на {abs(x)} минут'\n",
    "    result_msk = time_change(Msk_difference.total_seconds()/60) \n",
    "    \n",
    "    Mo_last_month = sheet.cell(11, lastmonth).value \n",
    "    Mo_old = sheet.cell(11, old).value \n",
    "    Mo_new = sheet.cell(11, new).value\n",
    "    Spb_last_month = sheet.cell(17, lastmonth).value \n",
    "    Spb_old = sheet.cell(17, old).value \n",
    "    Spb_new = sheet.cell(17, new).value\n",
    "    Lo_last_month = sheet.cell(23, lastmonth).value \n",
    "    Lo_old = sheet.cell(23, old).value \n",
    "    Lo_new = sheet.cell(23, new).value\n",
    "    Ekb_last_month = sheet.cell(29, lastmonth).value \n",
    "    Ekb_old = sheet.cell(29, old).value \n",
    "    Ekb_new = sheet.cell(29, new).value\n",
    "    Kk_last_month = sheet.cell(35, lastmonth).value \n",
    "    Kk_old = sheet.cell(35, old).value \n",
    "    Kk_new = sheet.cell(35, new).value\n",
    "    ozn_Lo_last_month = sheet.cell(53, lastmonth).value \n",
    "    ozn_Lo_old = sheet.cell(53, old).value \n",
    "    ozn_Lo_new = sheet.cell(53, new).value\n",
    "    ozn_Mo_last_month = sheet.cell(59, lastmonth).value \n",
    "    ozn_Mo_old = sheet.cell(59, old).value \n",
    "    ozn_Mo_new = sheet.cell(59, new).value\n",
    " \n",
    "    print('Изменение медианного времени осмотров по регионам')\n",
    "    print(f'-Москва. {Msk_old} -> {Msk_new}; Время в прошлом месяце: {Msk_last_month}, время {result_msk}')     \n",
    "    print(f'-Ленинградская. {Lo_old} -> {Lo_new}; Время в прошлом месяце: {Lo_last_month}')          \n",
    "    print(f'-Санкт-Петербург. {Spb_old} -> {Spb_new}; Время в прошлом месяце: {Spb_last_month}')      \n",
    "    print('Ухудшились:')  \n",
    "    print(f'-Краснодарский. {Kk_old} -> {Kk_new}; Время в прошлом месяце: {Kk_last_month}')      \n",
    "    print(f'-Московская. {Mo_old} -> {Mo_new}; Время в прошлом месяце: {Mo_last_month}')      \n",
    "    print(f'-Свердловская. {Ekb_old} -> {Ekb_new}; Время в прошлом месяце: {Ekb_last_month}\\n ')\n",
    "    print(f'-Ленинградская. {ozn_Lo_old} -> {ozn_Lo_new}; Время в прошлом месяце: {ozn_Lo_last_month}')      \n",
    "    print(f'-Московская. {ozn_Mo_old} -> {ozn_Mo_new}; Время в прошлом месяце: {ozn_Mo_last_month}')    \n",
    "    \n",
    "    \n"
   ]
  },
  {
   "cell_type": "code",
   "execution_count": null,
   "id": "8051b056",
   "metadata": {},
   "outputs": [],
   "source": []
  }
 ],
 "metadata": {
  "kernelspec": {
   "display_name": "Python 3 (ipykernel)",
   "language": "python",
   "name": "python3"
  },
  "language_info": {
   "codemirror_mode": {
    "name": "ipython",
    "version": 3
   },
   "file_extension": ".py",
   "mimetype": "text/x-python",
   "name": "python",
   "nbconvert_exporter": "python",
   "pygments_lexer": "ipython3",
   "version": "3.11.5"
  }
 },
 "nbformat": 4,
 "nbformat_minor": 5
}
